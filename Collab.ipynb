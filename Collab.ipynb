{
  "nbformat": 4,
  "nbformat_minor": 0,
  "metadata": {
    "colab": {
      "provenance": []
    },
    "kernelspec": {
      "name": "python3",
      "display_name": "Python 3"
    },
    "language_info": {
      "name": "python"
    }
  },
  "cells": [
    {
      "cell_type": "code",
      "execution_count": null,
      "metadata": {
        "id": "ZF9vVDEVnRs4",
        "colab": {
          "base_uri": "https://localhost:8080/"
        },
        "outputId": "0528e092-be0a-479e-dd82-4b88079654b2"
      },
      "outputs": [
        {
          "output_type": "stream",
          "name": "stdout",
          "text": [
            "Python 3.10.12\n",
            "/bin/bash: line 1: conda: command not found\n"
          ]
        }
      ],
      "source": [
        "!python --version\n",
        "!conda --version"
      ]
    },
    {
      "cell_type": "code",
      "source": [
        "!pip install -q condacolab"
      ],
      "metadata": {
        "id": "-mbGhMQ2pUNH"
      },
      "execution_count": null,
      "outputs": []
    },
    {
      "cell_type": "code",
      "source": [
        "import condacolab\n",
        "condacolab.install()"
      ],
      "metadata": {
        "colab": {
          "base_uri": "https://localhost:8080/"
        },
        "id": "kvM9ezS5pqqw",
        "outputId": "bf15a27c-e387-465b-c788-4bb8f6746ebd"
      },
      "execution_count": null,
      "outputs": [
        {
          "output_type": "stream",
          "name": "stdout",
          "text": [
            "✨🍰✨ Everything looks OK!\n"
          ]
        }
      ]
    },
    {
      "cell_type": "code",
      "source": [
        "!conda --version"
      ],
      "metadata": {
        "colab": {
          "base_uri": "https://localhost:8080/"
        },
        "id": "CUsr43Sqp5Bc",
        "outputId": "94761d43-9f13-43cd-c2b7-ccb8c2581f0c"
      },
      "execution_count": null,
      "outputs": [
        {
          "output_type": "stream",
          "name": "stdout",
          "text": [
            "conda 23.1.0\n"
          ]
        }
      ]
    },
    {
      "cell_type": "code",
      "source": [
        "!which conda"
      ],
      "metadata": {
        "colab": {
          "base_uri": "https://localhost:8080/"
        },
        "id": "NWOi-f8Pp-ug",
        "outputId": "8c15791b-df6a-48c4-e27c-dd3fc676ff88"
      },
      "execution_count": null,
      "outputs": [
        {
          "output_type": "stream",
          "name": "stdout",
          "text": [
            "/usr/local/bin/conda\n"
          ]
        }
      ]
    },
    {
      "cell_type": "code",
      "source": [
        "!conda install pandas numpy matplotlib"
      ],
      "metadata": {
        "id": "KZlu7-bbqBzH"
      },
      "execution_count": null,
      "outputs": []
    },
    {
      "cell_type": "code",
      "source": [
        "!conda create --name thrish python"
      ],
      "metadata": {
        "colab": {
          "base_uri": "https://localhost:8080/"
        },
        "id": "6koCG_AXrUfX",
        "outputId": "eeeb2893-dce2-42ba-a695-5bbe8627a21b"
      },
      "execution_count": null,
      "outputs": [
        {
          "output_type": "stream",
          "name": "stdout",
          "text": [
            "\b\b- \b\b\\ \b\b| \b\b/ \b\b- \b\bdone\n",
            "#\n",
            "# To activate this environment, use\n",
            "#\n",
            "#     $ conda activate thrish\n",
            "#\n",
            "# To deactivate an active environment, use\n",
            "#\n",
            "#     $ conda deactivate\n",
            "\n"
          ]
        }
      ]
    },
    {
      "cell_type": "code",
      "source": [
        "!activate thrish"
      ],
      "metadata": {
        "id": "PFYfVS3zriYV"
      },
      "execution_count": null,
      "outputs": []
    },
    {
      "cell_type": "code",
      "source": [
        "!conda info --env"
      ],
      "metadata": {
        "colab": {
          "base_uri": "https://localhost:8080/"
        },
        "id": "vyBQOfNfvu3p",
        "outputId": "4b6582c8-ccfe-4407-ff1c-dec25156bbdd"
      },
      "execution_count": null,
      "outputs": [
        {
          "output_type": "stream",
          "name": "stdout",
          "text": [
            "# conda environments:\n",
            "#\n",
            "base                     /usr/local\n",
            "thrish                   /usr/local/envs/thrish\n",
            "\n"
          ]
        }
      ]
    },
    {
      "cell_type": "code",
      "source": [],
      "metadata": {
        "id": "9962bXGFwFeI"
      },
      "execution_count": null,
      "outputs": []
    },
    {
      "cell_type": "code",
      "source": [
        "!conda init --help"
      ],
      "metadata": {
        "id": "7dLxXNxWr9QC"
      },
      "execution_count": null,
      "outputs": []
    },
    {
      "cell_type": "code",
      "source": [
        "!conda info --envs"
      ],
      "metadata": {
        "colab": {
          "base_uri": "https://localhost:8080/"
        },
        "id": "wLmNSwHOsQY6",
        "outputId": "9cd3f102-8a26-4099-f914-c019a1c617d2"
      },
      "execution_count": null,
      "outputs": [
        {
          "output_type": "stream",
          "name": "stdout",
          "text": [
            "# conda environments:\n",
            "#\n",
            "base                     /usr/local\n",
            "thrish                   /usr/local/envs/thrish\n",
            "\n"
          ]
        }
      ]
    },
    {
      "cell_type": "code",
      "source": [
        "!conda init <SHELL_NAME>"
      ],
      "metadata": {
        "colab": {
          "base_uri": "https://localhost:8080/"
        },
        "id": "a5N-yjxVssOR",
        "outputId": "84419b45-4208-4b0e-9ceb-938d65f7b43f"
      },
      "execution_count": null,
      "outputs": [
        {
          "output_type": "stream",
          "name": "stdout",
          "text": [
            "/bin/bash: -c: line 1: syntax error near unexpected token `newline'\n",
            "/bin/bash: -c: line 1: `conda init <SHELL_NAME>'\n"
          ]
        }
      ]
    },
    {
      "cell_type": "code",
      "source": [
        "!pip install generativepy"
      ],
      "metadata": {
        "id": "06CF5_NYwGux"
      },
      "execution_count": null,
      "outputs": []
    },
    {
      "cell_type": "code",
      "source": [
        "from generativepy.bitmap import make_bitmap, Scaler\n",
        "from generativepy.color import Color\n",
        "from PIL import ImageDraw\n",
        "import math\n",
        "import random\n",
        "\n",
        "SIN60 = math.sin(math.pi/3)\n",
        "\n",
        "SIZE = 600\n",
        "RANGE = 1.1\n",
        "ITERATIONS = 1000000\n",
        "VERTICES = [(-1, SIN60),\n",
        "            (0, -SIN60),\n",
        "            (1, SIN60)]\n",
        "\n",
        "def paint(image, pixel_width, pixel_height, frame_no, frame_count):\n",
        "    scaler = Scaler(pixel_width, pixel_height,\n",
        "                    width=RANGE*2, height=RANGE*2,\n",
        "                    startx=-RANGE, starty=-RANGE)\n",
        "    draw = ImageDraw.Draw(image)\n",
        "    draw.rectangle((0, 0, pixel_width, pixel_height),\n",
        "                   fill=Color(0.2).as_rgbstr())\n",
        "    x, y = 0, 0\n",
        "    color = Color('white').as_rgbstr()\n",
        "    for i in range(ITERATIONS):\n",
        "        vertex = random.choice(VERTICES)\n",
        "        x = (x + vertex[0])/2\n",
        "        y = (y + vertex[1])/2\n",
        "        u, v = scaler.user_to_device(x, y)\n",
        "        draw.point((u, v), color)\n",
        "\n",
        "\n",
        "make_bitmap(\"chaos-game-sierpinski.png\", paint, SIZE, SIZE)"
      ],
      "metadata": {
        "id": "Ssl50OnxwRZ0"
      },
      "execution_count": null,
      "outputs": []
    }
  ]
}